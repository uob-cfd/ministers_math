{
 "cells": [
  {
   "cell_type": "markdown",
   "id": "2bba825d",
   "metadata": {},
   "source": [
    "# Minister's 2019 mathematics"
   ]
  },
  {
   "cell_type": "code",
   "execution_count": null,
   "id": "a1068e4a",
   "metadata": {},
   "outputs": [],
   "source": [
    "# Don't change this cell; just run it.\n",
    "import numpy as np  # The array library.\n",
    "import pandas as pd\n",
    "# Safe settings for Pandas.\n",
    "pd.set_option('mode.chained_assignment', 'raise')\n",
    "\n",
    "import matplotlib.pyplot as plt\n",
    "plt.style.use('fivethirtyeight')\n",
    "\n",
    "# The OKpy testing system.\n",
    "from client.api.notebook import Notebook\n",
    "ok = Notebook('ministers_math.ok')"
   ]
  },
  {
   "cell_type": "markdown",
   "id": "88b0a143",
   "metadata": {},
   "source": [
    "Recall the [education minister's problem](https://uob-ds.github.io/cfd2021/confidence/havana_math).\n",
    "\n",
    "The Cuban education minister is worried that mathematics teaching has become\n",
    "less effective, in 2019, due to the loss of teachers to emigration.\n",
    "\n",
    "[Ena Elsa Velázquez\n",
    "Cobiella](https://www.theewf.org/speakers/view/ena-elsa-vel%C3%A1zquez-cobiella)\n",
    "has been the education minister in Cuba since 2008.\n",
    "\n",
    "She knows the distribution of all 7300 or so of the 2018 school year marks\n",
    "from the final mathematics exams from Havana schools."
   ]
  },
  {
   "cell_type": "code",
   "execution_count": null,
   "id": "35eaa183",
   "metadata": {},
   "outputs": [],
   "source": [
    "havana_2018 = pd.read_csv('havana_math_2018.csv')\n",
    "# Drop missing marks.\n",
    "marks_2018 = havana_2018['mark'].dropna()\n",
    "# Plot\n",
    "marks_2018.hist(bins=100);"
   ]
  },
  {
   "cell_type": "markdown",
   "id": "a262c752",
   "metadata": {},
   "source": [
    "This gives her, among many other summaries, the 2018 mean:"
   ]
  },
  {
   "cell_type": "code",
   "execution_count": null,
   "id": "59a6a0f4",
   "metadata": {},
   "outputs": [],
   "source": [
    "mean_2018 = marks_2018.mean()\n",
    "mean_2018"
   ]
  },
  {
   "cell_type": "markdown",
   "id": "cedc2a0b",
   "metadata": {},
   "source": [
    "She wants to get an early indication if the marks have dropped for 2019, so\n",
    "she has got a random sample of 50 of the 2019 scripts, and had them marked\n",
    "urgently. This gives her the following random sample of the 2019 marks:"
   ]
  },
  {
   "cell_type": "code",
   "execution_count": null,
   "id": "f81a958a",
   "metadata": {},
   "outputs": [],
   "source": [
    "sample_2019 = pd.read_csv('havana_math_2019_sample.csv')\n",
    "sample_marks = sample_2019['mark']\n",
    "sample_marks.hist(bins=100);\n",
    "sample_marks.head()"
   ]
  },
  {
   "cell_type": "code",
   "execution_count": null,
   "id": "30b5b3d4",
   "metadata": {},
   "outputs": [],
   "source": [
    "n_sample = len(sample_marks)\n",
    "print(\"Number of scripts in sample\", n_sample)\n",
    "mean_sample = sample_marks.mean()\n",
    "print(\"Mean of sample marks\", mean_sample)"
   ]
  },
  {
   "cell_type": "markdown",
   "id": "86359b32",
   "metadata": {},
   "source": [
    "This is the mean for the *sample*, but her main interest is in the mean fro\n",
    "the *population*.  The population in this case is the eventual 7000 or so\n",
    "marks from all Havana schools.\n",
    "\n",
    "So, her interest is in using the *sample* to get an idea of what the\n",
    "*population* mean will be.  She can't tell precisely what the mean will be,\n",
    "from the sample, but she plans to use the bootstrap to give her a reasonable\n",
    "*range* (an interval) for the eventual population mean.  She decides she wants\n",
    "the interval to give her an 80% chance of capturing the eventual population\n",
    "mean.\n",
    "\n",
    "As you remember, her procedure will be:\n",
    "\n",
    "* Take many *bootstrap samples* from this sample.\n",
    "* Build up a bootstrap sampling distribution of the mean.\n",
    "* Use percentiles from this distribution to give the interval.\n",
    "\n",
    "As you remember a *bootstrap sample* is a sample that is the same size as the original sample, sampled randomly from the original sample *with replacement*.\n",
    "\n",
    "As usual, we start with a cell to implement a single *trial* — a single bootstrap sample. Store the sample as `boot_sample`.  Then take the mean and store as `boot_mean`."
   ]
  },
  {
   "cell_type": "code",
   "execution_count": null,
   "id": "4440e826",
   "metadata": {},
   "outputs": [],
   "source": [
    "first_boot_sample = ...\n",
    "first_boot_mean = ...\n",
    "first_boot_mean"
   ]
  },
  {
   "cell_type": "code",
   "execution_count": null,
   "id": "dd5730cf",
   "metadata": {},
   "outputs": [],
   "source": [
    "_ = ok.grade('q_first_boot_sample')"
   ]
  },
  {
   "cell_type": "markdown",
   "id": "ce9ae491",
   "metadata": {},
   "source": [
    "A histogram of you new bootstrap sample:"
   ]
  },
  {
   "cell_type": "code",
   "execution_count": null,
   "id": "f3d8ee19",
   "metadata": {},
   "outputs": [],
   "source": [
    "plt.hist(first_boot_sample)\n",
    "plt.title(\"First bootstrap sample\");"
   ]
  },
  {
   "cell_type": "markdown",
   "id": "56ffad7e",
   "metadata": {},
   "source": [
    "Now we build up the bootstrap sampling distribution:"
   ]
  },
  {
   "cell_type": "code",
   "execution_count": null,
   "id": "cfec3cbc",
   "metadata": {},
   "outputs": [],
   "source": [
    "# Build bootstrap sampling distribution\n",
    "n_replications = 10000\n",
    "boot_means = np.zeros(n_replications)\n",
    "...\n",
    "# Plot the bootstrap sampling distribution\n",
    "plt.hist(boot_means, bins=100);"
   ]
  },
  {
   "cell_type": "code",
   "execution_count": null,
   "id": "9909b1fa",
   "metadata": {},
   "outputs": [],
   "source": [
    "_ = ok.grade('q_boot_means')"
   ]
  },
  {
   "cell_type": "markdown",
   "id": "1c97b2e1",
   "metadata": {},
   "source": [
    "Calculate the left and right intervals to capture the population mean 80% of the time."
   ]
  },
  {
   "cell_type": "code",
   "execution_count": null,
   "id": "6565edbd",
   "metadata": {},
   "outputs": [],
   "source": [
    "...\n",
    "print(\"Left\", left)\n",
    "print(\"Right\", right)"
   ]
  },
  {
   "cell_type": "code",
   "execution_count": null,
   "id": "3fc074ef",
   "metadata": {},
   "outputs": [],
   "source": [
    "_ = ok.grade('q_left_right')"
   ]
  },
  {
   "cell_type": "markdown",
   "id": "beb5c4ec",
   "metadata": {},
   "source": [
    "**For reflection**.  What do you think about this interval?  How confident are\n",
    "you that the marks distribution center (the mean) is different in 2019\n",
    "compared to 2018?"
   ]
  },
  {
   "cell_type": "markdown",
   "id": "a6b16866",
   "metadata": {},
   "source": [
    "## Done.\n",
    "\n",
    "Congratulations, you're done with the assignment!  Be sure to:\n",
    "\n",
    "- **run all the tests** (the next cell has a shortcut for that).\n",
    "- **Save and Checkpoint** from the `File` menu."
   ]
  },
  {
   "cell_type": "code",
   "execution_count": null,
   "id": "dc7cac71",
   "metadata": {},
   "outputs": [],
   "source": [
    "# For your convenience, you can run this cell to run all the tests at once!\n",
    "import os\n",
    "_ = [ok.grade(q[:-3]) for q in os.listdir(\"tests\") if q.startswith('q')]"
   ]
  }
 ],
 "metadata": {
  "jupytext": {
   "notebook_metadata_filter": "all,-language_info",
   "split_at_heading": true,
   "text_representation": {
    "extension": ".Rmd",
    "format_name": "rmarkdown",
    "format_version": "1.2",
    "jupytext_version": "1.10.3"
   }
  },
  "kernelspec": {
   "display_name": "Python 3 (ipykernel)",
   "language": "python",
   "name": "python3"
  }
 },
 "nbformat": 4,
 "nbformat_minor": 5
}
